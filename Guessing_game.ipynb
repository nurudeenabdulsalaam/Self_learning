{
  "nbformat": 4,
  "nbformat_minor": 0,
  "metadata": {
    "colab": {
      "name": "Guessing_game.ipynb",
      "provenance": [],
      "authorship_tag": "ABX9TyMulnk9bAPTrMH1btXxH+/R"
    },
    "kernelspec": {
      "name": "python3",
      "display_name": "Python 3"
    },
    "language_info": {
      "name": "python"
    }
  },
  "cells": [
    {
      "cell_type": "markdown",
      "source": [
        "Number Guessing Game Project by Turing"
      ],
      "metadata": {
        "id": "FMwuVoQ1KUN7"
      }
    },
    {
      "cell_type": "code",
      "source": [
        "## import the random module\n",
        "import random"
      ],
      "metadata": {
        "id": "nWCAqCDTKK6x"
      },
      "execution_count": 4,
      "outputs": []
    },
    {
      "cell_type": "code",
      "source": [
        "## Function to generate random integer between 0 and 100 inclusive  \n",
        "def numGenerated():\n",
        "    global numGenerated ## Make \"numGen\" global so that it can be used outside this funtion \n",
        "    numGenerated = random.randint(0, 100)"
      ],
      "metadata": {
        "id": "gdVwYoPFJuRS"
      },
      "execution_count": 5,
      "outputs": []
    },
    {
      "cell_type": "code",
      "execution_count": 6,
      "metadata": {
        "id": "rYBdohIUIkh_"
      },
      "outputs": [],
      "source": [
        "##Functiion to tell user to enter the guess number\n",
        "def userInput():\n",
        "    global userGuess ## Make \"userGuess\" global so that it can be used outside this funtion \n",
        "    userGuess = (input(\"Enter guess: \"))"
      ]
    },
    {
      "cell_type": "code",
      "source": [
        "def guessing_game():\n",
        "    ##instruction to the user\n",
        "    print(\"You're about to play the guessing game. This game requires you to enter an integer between 0 and 100 \\nAre you ready? Let's go!\")   \n",
        "\n",
        "    numGenerated() ## Call function to generate random integer between 0 and 100 inclusive  \n",
        "\n",
        "    while True:\n",
        "        global userGuess\n",
        "        userInput() ## Tell user to enter the guess number\n",
        "        if userGuess.isdigit(): ## Check if it is a digit\n",
        "            userGuess = int(userGuess) ## Covert the number to integer\n",
        "            if 0 <= userGuess <= 100:  ## Check if the number is within the range\n",
        "                pass\n",
        "            else:\n",
        "                print(\"Number not within the range\") ## Alert user if the number is not within the range\n",
        "                continue\n",
        "        else:\n",
        "            print(\"This is not an interger. only integer is allowed!\") ## Alert user if not interger is enter\n",
        "            continue\n",
        "        if userGuess == numGenerated: ## Check if the user gets the number right or not\n",
        "            print(\"Just right\")\n",
        "            break\n",
        "        elif userGuess < numGenerated:\n",
        "            print(\"Tow low\")\n",
        "            continue\n",
        "        else:\n",
        "            print(\"Too High\")\n",
        "            continue "
      ],
      "metadata": {
        "id": "lLLP8LZyKo1q"
      },
      "execution_count": 7,
      "outputs": []
    },
    {
      "cell_type": "code",
      "source": [
        "guessing_game()"
      ],
      "metadata": {
        "colab": {
          "base_uri": "https://localhost:8080/"
        },
        "id": "v6d0qbunKphi",
        "outputId": "d3916df9-4d8e-45eb-a0b9-9dbe94bf5bf4"
      },
      "execution_count": 8,
      "outputs": [
        {
          "output_type": "stream",
          "name": "stdout",
          "text": [
            "You're about to play the guessing game. This game requires you to enter an integer between 0 and 100 \n",
            "Are you ready? Let's go!\n",
            "Enter guess: y\n",
            "This is not an interger. only integer is allowed!\n",
            "Enter guess: 569\n",
            "Number not within the range\n",
            "Enter guess: 12\n",
            "Tow low\n",
            "Enter guess: 45\n",
            "Tow low\n",
            "Enter guess: 50\n",
            "Tow low\n",
            "Enter guess: 60\n",
            "Tow low\n",
            "Enter guess: 70\n",
            "Tow low\n",
            "Enter guess: 80\n",
            "Just right\n"
          ]
        }
      ]
    },
    {
      "cell_type": "code",
      "source": [
        ""
      ],
      "metadata": {
        "id": "IAx6ySR5Kp6S"
      },
      "execution_count": 8,
      "outputs": []
    }
  ]
}