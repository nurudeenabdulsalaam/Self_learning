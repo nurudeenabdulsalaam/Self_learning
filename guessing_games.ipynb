{
 "cells": [
  {
   "cell_type": "markdown",
   "metadata": {},
   "source": [
    "## Number Guessing game"
   ]
  },
  {
   "cell_type": "code",
   "execution_count": null,
   "metadata": {},
   "outputs": [],
   "source": [
    "import random\n",
    "genNUm = random.randrange(101)\n",
    "print(\"You're about to play the guessing game. This game requires you to enter an integer between 0 and 100 \\nAre you ready? Let's go!\")   \n",
    "\n",
    "\n",
    "def guessing_game():\n",
    "    while True:\n",
    "        guess = input(\"Enter an integer between 0 and 100: \")\n",
    "        try: num = int(guess)\n",
    "        except:\n",
    "            print(\"Number not an integer\")\n",
    "            continue\n",
    "        if not 0 < num <100 :\n",
    "            print(\"Number not within the range\")\n",
    "        else:\n",
    "            if num < genNUm:\n",
    "                print(\"Too low\")\n",
    "            elif num > genNUm:\n",
    "                print(\"Too high\")\n",
    "            else:\n",
    "                print(f\"{genNUm}!\\nYou just got it right.\")\n",
    "                break\n",
    "            \n",
    "guessing_game()"
   ]
  },
  {
   "cell_type": "markdown",
   "metadata": {},
   "source": []
  }
 ],
 "metadata": {
  "interpreter": {
   "hash": "2647ea34e536f865ab67ff9ddee7fd78773d956cec0cab53c79b32cd10da5d83"
  },
  "kernelspec": {
   "display_name": "Python 3.9.1 64-bit",
   "language": "python",
   "name": "python3"
  },
  "language_info": {
   "codemirror_mode": {
    "name": "ipython",
    "version": 3
   },
   "file_extension": ".py",
   "mimetype": "text/x-python",
   "name": "python",
   "nbconvert_exporter": "python",
   "pygments_lexer": "ipython3",
   "version": "3.9.1"
  },
  "orig_nbformat": 4
 },
 "nbformat": 4,
 "nbformat_minor": 2
}
