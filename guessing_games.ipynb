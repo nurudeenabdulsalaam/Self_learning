{
 "cells": [
  {
   "cell_type": "markdown",
   "metadata": {},
   "source": [
    "##  Guess the number!"
   ]
  },
  {
   "cell_type": "code",
   "execution_count": null,
   "metadata": {},
   "outputs": [],
   "source": [
    "import random\n",
    "genNUm = random.randrange(101)\n",
    "print(\"You're about to play the guessing game. This game requires you to enter an integer between 0 and 100 \\nAre you ready? Let's go!\")   \n",
    "\n",
    "\n",
    "def guessing_game():\n",
    "    while True:\n",
    "        guess = input(\"Enter an integer between 0 and 100: \")\n",
    "        try: num = int(guess)\n",
    "        except:\n",
    "            print(\"Number not an integer\")\n",
    "            continue\n",
    "        if not 0 < num <100 :\n",
    "            print(\"Number not within the range\")\n",
    "        else:\n",
    "            if num < genNUm:\n",
    "                print(\"Too low\")\n",
    "            elif num > genNUm:\n",
    "                print(\"Too high\")\n",
    "            else:\n",
    "                print(f\"{genNUm}!\\nYou just got it right.\")\n",
    "                break\n",
    "            \n",
    "guessing_game()"
   ]
  },
  {
   "cell_type": "markdown",
   "metadata": {},
   "source": [
    "## Guess the word!"
   ]
  },
  {
   "cell_type": "code",
   "execution_count": null,
   "metadata": {},
   "outputs": [],
   "source": [
    "def hint(secret_word):\n",
    "    import string\n",
    "    vowel = \"aeiou\"\n",
    "    vowel_count = 0\n",
    "    is_letter = string.ascii_letters\n",
    "    print(\"Hints:\")\n",
    "    print(f'\\t This word is a {len(secret_word)} letter(s) word')\n",
    "    if secret_word[0].lower() in vowel:\n",
    "        print(\"\\t It starts with a vowel\")\n",
    "    else:\n",
    "        print(\"\\t It word starts with a consonant\")\n",
    "    for letter in secret_word:\n",
    "        if letter.lower() in vowel:\n",
    "            vowel_count += 1\n",
    "    print(f'\\t It has {vowel_count} vowel(s) and {len(secret_word) - vowel_count} consonant(s).')\n",
    "       \n",
    "       \n",
    "print(\"You have Three chances to guess the word correctly unless you lose\")\n",
    "secret_word = input(\"Enter your secret word: \")\n",
    "guess = \"\"\n",
    "guess_count = 0\n",
    "guess_limit = 3\n",
    "out_of_guesses = False\n",
    "hint(secret_word)\n",
    "\n",
    "while guess != secret_word and out_of_guesses == False:\n",
    "    if guess_count == 0: \n",
    "        print(\"Start!\")\n",
    "        guess = input(\"Guess the word: \")\n",
    "        guess_count += 1\n",
    "    elif guess_count < guess_limit:\n",
    "        print(f\"Ops! You're wrong. try again. \\n{(guess_limit - guess_count)} tial(s) left\" )\n",
    "        guess = input(\"Guess the word: \")\n",
    "        guess_count += 1\n",
    "            \n",
    "    else:\n",
    "        out_of_guesses = True\n",
    "\n",
    "if out_of_guesses:\n",
    "    print(\"YOU LOSE, YOU CAN DO BETTER!\")\n",
    "else:\n",
    "    print(\"YOU WIN, PUT MORE EFFORT\")"
   ]
  }
 ],
 "metadata": {
  "interpreter": {
   "hash": "2647ea34e536f865ab67ff9ddee7fd78773d956cec0cab53c79b32cd10da5d83"
  },
  "kernelspec": {
   "display_name": "Python 3.9.1 64-bit",
   "language": "python",
   "name": "python3"
  },
  "language_info": {
   "codemirror_mode": {
    "name": "ipython",
    "version": 3
   },
   "file_extension": ".py",
   "mimetype": "text/x-python",
   "name": "python",
   "nbconvert_exporter": "python",
   "pygments_lexer": "ipython3",
   "version": "3.9.1"
  },
  "orig_nbformat": 4
 },
 "nbformat": 4,
 "nbformat_minor": 2
}
