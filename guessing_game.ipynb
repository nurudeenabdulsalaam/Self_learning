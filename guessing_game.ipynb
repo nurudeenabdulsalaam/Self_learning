{
  "cells": [
    {
      "cell_type": "markdown",
      "metadata": {
        "id": "FMwuVoQ1KUN7"
      },
      "source": [
        "Number Guessing Game Project by Turing"
      ]
    },
    {
      "cell_type": "code",
      "execution_count": 4,
      "metadata": {
        "id": "nWCAqCDTKK6x"
      },
      "outputs": [],
      "source": [
        "## import the random module\n",
        "import random"
      ]
    },
    {
      "cell_type": "code",
      "execution_count": 5,
      "metadata": {
        "id": "gdVwYoPFJuRS"
      },
      "outputs": [],
      "source": [
        "## Function to generate random integer between 0 and 100 inclusive  \n",
        "def numGenerated():\n",
        "    global numGenerated ## Make \"numGen\" global so that it can be used outside this funtion \n",
        "    numGenerated = random.randint(0, 100)"
      ]
    },
    {
      "cell_type": "code",
      "execution_count": 6,
      "metadata": {
        "id": "rYBdohIUIkh_"
      },
      "outputs": [],
      "source": [
        "##Functiion to tell user to enter the guess number\n",
        "def userInput():\n",
        "    global userGuess ## Make \"userGuess\" global so that it can be used outside this funtion \n",
        "    userGuess = (input(\"Enter guess: \"))"
      ]
    },
    {
      "cell_type": "code",
      "execution_count": 7,
      "metadata": {
        "id": "lLLP8LZyKo1q"
      },
      "outputs": [],
      "source": [
        "def guessing_game():\n",
        "    ##instruction to the user\n",
        "    print(\"You're about to play the guessing game. This game requires you to enter an integer between 0 and 100 \\nAre you ready? Let's go!\")   \n",
        "\n",
        "    numGenerated() ## Call function to generate random integer between 0 and 100 inclusive  \n",
        "\n",
        "    while True:\n",
        "        global userGuess\n",
        "        userInput() ## Tell user to enter the guess number\n",
        "        if userGuess.isdigit(): ## Check if it is a digit\n",
        "            userGuess = int(userGuess) ## Covert the number to integer\n",
        "            if 0 <= userGuess <= 100:  ## Check if the number is within the range\n",
        "                pass\n",
        "            else:\n",
        "                print(\"Number not within the range\") ## Alert user if the number is not within the range\n",
        "                continue\n",
        "        else:\n",
        "            print(\"This is not an interger. only integer is allowed!\") ## Alert user if not interger is enter\n",
        "            continue\n",
        "        if userGuess == numGenerated: ## Check if the user gets the number right or not\n",
        "            print(\"Just right\")\n",
        "            break\n",
        "        elif userGuess < numGenerated:\n",
        "            print(\"Tow low\")\n",
        "            continue\n",
        "        else:\n",
        "            print(\"Too High\")\n",
        "            continue "
      ]
    },
    {
      "cell_type": "code",
      "execution_count": 8,
      "metadata": {
        "colab": {
          "base_uri": "https://localhost:8080/"
        },
        "id": "v6d0qbunKphi",
        "outputId": "d3916df9-4d8e-45eb-a0b9-9dbe94bf5bf4"
      },
      "outputs": [
        {
          "name": "stdout",
          "output_type": "stream",
          "text": [
            "You're about to play the guessing game. This game requires you to enter an integer between 0 and 100 \n",
            "Are you ready? Let's go!\n",
            "Enter guess: y\n",
            "This is not an interger. only integer is allowed!\n",
            "Enter guess: 569\n",
            "Number not within the range\n",
            "Enter guess: 12\n",
            "Tow low\n",
            "Enter guess: 45\n",
            "Tow low\n",
            "Enter guess: 50\n",
            "Tow low\n",
            "Enter guess: 60\n",
            "Tow low\n",
            "Enter guess: 70\n",
            "Tow low\n",
            "Enter guess: 80\n",
            "Just right\n"
          ]
        }
      ],
      "source": [
        "guessing_game()"
      ]
    },
    {
      "cell_type": "markdown",
      "metadata": {},
      "source": [
        "# **After review**"
      ]
    },
    {
      "cell_type": "code",
      "execution_count": 1,
      "metadata": {
        "id": "IAx6ySR5Kp6S"
      },
      "outputs": [
        {
          "name": "stdout",
          "output_type": "stream",
          "text": [
            "You're about to play the guessing game. This game requires you to enter an integer between 0 and 100 \n",
            "Are you ready? Let's go!\n",
            "Too high\n",
            "Number not an integer\n",
            "Number not within the range\n"
          ]
        },
        {
          "ename": "KeyboardInterrupt",
          "evalue": "Interrupted by user",
          "output_type": "error",
          "traceback": [
            "\u001b[1;31m---------------------------------------------------------------------------\u001b[0m",
            "\u001b[1;31mKeyboardInterrupt\u001b[0m                         Traceback (most recent call last)",
            "\u001b[1;32m~\\AppData\\Local\\Temp/ipykernel_1812/1971648917.py\u001b[0m in \u001b[0;36m<module>\u001b[1;34m\u001b[0m\n\u001b[0;32m     21\u001b[0m                 \u001b[1;32mbreak\u001b[0m\u001b[1;33m\u001b[0m\u001b[1;33m\u001b[0m\u001b[0m\n\u001b[0;32m     22\u001b[0m \u001b[1;33m\u001b[0m\u001b[0m\n\u001b[1;32m---> 23\u001b[1;33m \u001b[0mguessing_game\u001b[0m\u001b[1;33m(\u001b[0m\u001b[1;33m)\u001b[0m\u001b[1;33m\u001b[0m\u001b[1;33m\u001b[0m\u001b[0m\n\u001b[0m",
            "\u001b[1;32m~\\AppData\\Local\\Temp/ipykernel_1812/1971648917.py\u001b[0m in \u001b[0;36mguessing_game\u001b[1;34m()\u001b[0m\n\u001b[0;32m      6\u001b[0m \u001b[1;32mdef\u001b[0m \u001b[0mguessing_game\u001b[0m\u001b[1;33m(\u001b[0m\u001b[1;33m)\u001b[0m\u001b[1;33m:\u001b[0m\u001b[1;33m\u001b[0m\u001b[1;33m\u001b[0m\u001b[0m\n\u001b[0;32m      7\u001b[0m     \u001b[1;32mwhile\u001b[0m \u001b[1;32mTrue\u001b[0m\u001b[1;33m:\u001b[0m\u001b[1;33m\u001b[0m\u001b[1;33m\u001b[0m\u001b[0m\n\u001b[1;32m----> 8\u001b[1;33m         \u001b[0mguess\u001b[0m \u001b[1;33m=\u001b[0m \u001b[0minput\u001b[0m\u001b[1;33m(\u001b[0m\u001b[1;34m\"Enter an integer between 0 and 100: \"\u001b[0m\u001b[1;33m)\u001b[0m\u001b[1;33m\u001b[0m\u001b[1;33m\u001b[0m\u001b[0m\n\u001b[0m\u001b[0;32m      9\u001b[0m         \u001b[1;32mtry\u001b[0m\u001b[1;33m:\u001b[0m \u001b[0mnum\u001b[0m \u001b[1;33m=\u001b[0m \u001b[0mint\u001b[0m\u001b[1;33m(\u001b[0m\u001b[0mguess\u001b[0m\u001b[1;33m)\u001b[0m\u001b[1;33m\u001b[0m\u001b[1;33m\u001b[0m\u001b[0m\n\u001b[0;32m     10\u001b[0m         \u001b[1;32mexcept\u001b[0m\u001b[1;33m:\u001b[0m\u001b[1;33m\u001b[0m\u001b[1;33m\u001b[0m\u001b[0m\n",
            "\u001b[1;32m~\\AppData\\Local\\Programs\\Python\\Python39\\lib\\site-packages\\ipykernel\\kernelbase.py\u001b[0m in \u001b[0;36mraw_input\u001b[1;34m(self, prompt)\u001b[0m\n\u001b[0;32m    979\u001b[0m                 \u001b[1;34m\"raw_input was called, but this frontend does not support input requests.\"\u001b[0m\u001b[1;33m\u001b[0m\u001b[1;33m\u001b[0m\u001b[0m\n\u001b[0;32m    980\u001b[0m             )\n\u001b[1;32m--> 981\u001b[1;33m         return self._input_request(\n\u001b[0m\u001b[0;32m    982\u001b[0m             \u001b[0mstr\u001b[0m\u001b[1;33m(\u001b[0m\u001b[0mprompt\u001b[0m\u001b[1;33m)\u001b[0m\u001b[1;33m,\u001b[0m\u001b[1;33m\u001b[0m\u001b[1;33m\u001b[0m\u001b[0m\n\u001b[0;32m    983\u001b[0m             \u001b[0mself\u001b[0m\u001b[1;33m.\u001b[0m\u001b[0m_parent_ident\u001b[0m\u001b[1;33m[\u001b[0m\u001b[1;34m\"shell\"\u001b[0m\u001b[1;33m]\u001b[0m\u001b[1;33m,\u001b[0m\u001b[1;33m\u001b[0m\u001b[1;33m\u001b[0m\u001b[0m\n",
            "\u001b[1;32m~\\AppData\\Local\\Programs\\Python\\Python39\\lib\\site-packages\\ipykernel\\kernelbase.py\u001b[0m in \u001b[0;36m_input_request\u001b[1;34m(self, prompt, ident, parent, password)\u001b[0m\n\u001b[0;32m   1024\u001b[0m             \u001b[1;32mexcept\u001b[0m \u001b[0mKeyboardInterrupt\u001b[0m\u001b[1;33m:\u001b[0m\u001b[1;33m\u001b[0m\u001b[1;33m\u001b[0m\u001b[0m\n\u001b[0;32m   1025\u001b[0m                 \u001b[1;31m# re-raise KeyboardInterrupt, to truncate traceback\u001b[0m\u001b[1;33m\u001b[0m\u001b[1;33m\u001b[0m\u001b[1;33m\u001b[0m\u001b[0m\n\u001b[1;32m-> 1026\u001b[1;33m                 \u001b[1;32mraise\u001b[0m \u001b[0mKeyboardInterrupt\u001b[0m\u001b[1;33m(\u001b[0m\u001b[1;34m\"Interrupted by user\"\u001b[0m\u001b[1;33m)\u001b[0m \u001b[1;32mfrom\u001b[0m \u001b[1;32mNone\u001b[0m\u001b[1;33m\u001b[0m\u001b[1;33m\u001b[0m\u001b[0m\n\u001b[0m\u001b[0;32m   1027\u001b[0m             \u001b[1;32mexcept\u001b[0m \u001b[0mException\u001b[0m\u001b[1;33m:\u001b[0m\u001b[1;33m\u001b[0m\u001b[1;33m\u001b[0m\u001b[0m\n\u001b[0;32m   1028\u001b[0m                 \u001b[0mself\u001b[0m\u001b[1;33m.\u001b[0m\u001b[0mlog\u001b[0m\u001b[1;33m.\u001b[0m\u001b[0mwarning\u001b[0m\u001b[1;33m(\u001b[0m\u001b[1;34m\"Invalid Message:\"\u001b[0m\u001b[1;33m,\u001b[0m \u001b[0mexc_info\u001b[0m\u001b[1;33m=\u001b[0m\u001b[1;32mTrue\u001b[0m\u001b[1;33m)\u001b[0m\u001b[1;33m\u001b[0m\u001b[1;33m\u001b[0m\u001b[0m\n",
            "\u001b[1;31mKeyboardInterrupt\u001b[0m: Interrupted by user"
          ]
        }
      ],
      "source": [
        "import random\n",
        "genNUm = random.randrange(101)\n",
        "print(\"You're about to play the guessing game. This game requires you to enter an integer between 0 and 100 \\nAre you ready? Let's go!\")   \n",
        "\n",
        "\n",
        "def guessing_game():\n",
        "    while True:\n",
        "        guess = input(\"Enter an integer between 0 and 100: \")\n",
        "        try: num = int(guess)\n",
        "        except:\n",
        "            print(\"Number not an integer\")\n",
        "            continue\n",
        "        if not 0 < num <100 :\n",
        "            print(\"Number not within the range\")\n",
        "        else:\n",
        "            if num < genNUm:\n",
        "                print(\"Too low\")\n",
        "            elif num > genNUm:\n",
        "                print(\"Too high\")\n",
        "            else:\n",
        "                break\n",
        "            \n",
        "guessing_game()"
      ]
    },
    {
      "cell_type": "code",
      "execution_count": null,
      "metadata": {},
      "outputs": [],
      "source": []
    }
  ],
  "metadata": {
    "colab": {
      "authorship_tag": "ABX9TyMulnk9bAPTrMH1btXxH+/R",
      "name": "Guessing_game.ipynb",
      "provenance": []
    },
    "kernelspec": {
      "display_name": "Python 3",
      "name": "python3"
    },
    "language_info": {
      "codemirror_mode": {
        "name": "ipython",
        "version": 3
      },
      "file_extension": ".py",
      "mimetype": "text/x-python",
      "name": "python",
      "nbconvert_exporter": "python",
      "pygments_lexer": "ipython3",
      "version": "3.9.1"
    }
  },
  "nbformat": 4,
  "nbformat_minor": 0
}
