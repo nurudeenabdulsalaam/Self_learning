{
 "cells": [
  {
   "cell_type": "code",
   "execution_count": 7,
   "metadata": {},
   "outputs": [],
   "source": [
    "\n",
    "## to be used\n",
    "def translator(sentence):\n",
    "    import string\n",
    "    global translations\n",
    "    words = sentence.split(\" \")\n",
    "    translations = \"\"\n",
    "    punc = \" \"\n",
    "    for word in words:\n",
    "        punc = \" \"\n",
    "        alpha = string.ascii_letters\n",
    "        upperalpha = string.ascii_uppercase\n",
    "        loweralpha =string.ascii_lowercase\n",
    "        punctuations = string.punctuation\n",
    "        if len(word) == 0:\n",
    "            return word\n",
    "        if word[0] not in alpha:\n",
    "            translation = word\n",
    "        else:\n",
    "            if word[-1] in punctuations:\n",
    "                punc = word[-1] + \" \"\n",
    "                word = word[:-1]\n",
    "        \n",
    "            if word[0].lower() in \"aeiou\":\n",
    "                translation = word+\"way\" + punc\n",
    "            elif word[0] in loweralpha and len(word) >= 3:\n",
    "                translation = word[1]+word[2:]+word[0]+\"ay\" + punc\n",
    "            elif word[0] in upperalpha and len(word) >= 3:\n",
    "                translation = word[1].capitalize()+word[2:]+word[0].lower()+\"ay\" + punc\n",
    "            elif word[0] in loweralpha and len(word) == 2:\n",
    "                translation = word[1]+word[0]+\"ay\" + punc\n",
    "            elif word[0] in upperalpha and len(word) == 2:\n",
    "                translation = word[1].capitalize()+word[0].lower()+\"ay\" + punc\n",
    "            elif word[0] in loweralpha and len(word) == 1:\n",
    "                translation = word[0]+\"ay\" + punc\n",
    "            else:\n",
    "                translation = word[0]+\"ay\" + punc\n",
    "        translations += translation\n",
    "    return translations\n",
    "\n",
    "def pig_latin():\n",
    "    '''This is a pig_latin translator. Pig Latin (http://mng.bz/YrON) is \n",
    "    a common children's \"secret\" language in English-speaking countries,\n",
    "    especially when they want to disguise something they are saying \n",
    "    from their parents. It has and embeded function named \\\"translator.\\\"'''\n",
    "    \n",
    "    length = 1\n",
    "    while length >= 1:\n",
    "        global sentence\n",
    "        sentence = input(\"Translate: \")\n",
    "        length = len(sentence)\n",
    "        translator(sentence)\n",
    "        print(translations)\n",
    "        "
   ]
  },
  {
   "cell_type": "code",
   "execution_count": 8,
   "metadata": {},
   "outputs": [
    {
     "name": "stdout",
     "output_type": "stream",
     "text": [
      "ddjffay \n",
      "say \n",
      "day \n",
      "7\n",
      "6\n",
      "6\n",
      "6\n",
      "5\n",
      ".\n",
      "\n"
     ]
    }
   ],
   "source": [
    "pig_latin()"
   ]
  },
  {
   "cell_type": "code",
   "execution_count": 3,
   "metadata": {},
   "outputs": [
    {
     "name": "stdout",
     "output_type": "stream",
     "text": [
      "Help on function pig_latin in module __main__:\n",
      "\n",
      "pig_latin()\n",
      "    This is a pig_latin translator. Pig Latin (http://mng.bz/YrON) is \n",
      "    a common children's \"secret\" language in English-speaking countries,\n",
      "    especially when they want to disguise something they are saying \n",
      "    from their parents. It has and embeded function named \"translator.\"\n",
      "\n"
     ]
    }
   ],
   "source": [
    "help(pig_latin)"
   ]
  },
  {
   "cell_type": "code",
   "execution_count": null,
   "metadata": {},
   "outputs": [],
   "source": []
  }
 ],
 "metadata": {
  "interpreter": {
   "hash": "2647ea34e536f865ab67ff9ddee7fd78773d956cec0cab53c79b32cd10da5d83"
  },
  "kernelspec": {
   "display_name": "Python 3.9.1 64-bit",
   "language": "python",
   "name": "python3"
  },
  "language_info": {
   "codemirror_mode": {
    "name": "ipython",
    "version": 3
   },
   "file_extension": ".py",
   "mimetype": "text/x-python",
   "name": "python",
   "nbconvert_exporter": "python",
   "pygments_lexer": "ipython3",
   "version": "3.9.1"
  },
  "orig_nbformat": 4
 },
 "nbformat": 4,
 "nbformat_minor": 2
}
